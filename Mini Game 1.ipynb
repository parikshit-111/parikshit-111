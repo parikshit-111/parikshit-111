{
 "cells": [
  {
   "cell_type": "code",
   "execution_count": 26,
   "metadata": {},
   "outputs": [
    {
     "name": "stdout",
     "output_type": "stream",
     "text": [
      "[' ', 'O', ' ']\n",
      "Hello Player, please guess the position: 1\n",
      "[' ', 'O', ' ']\n",
      "You my man. Good guess!!!!\n"
     ]
    }
   ],
   "source": [
    "\n",
    "from random import shuffle\n",
    "\n",
    "def shuffle_list(list_1):\n",
    "    shuffle(list_1)\n",
    "    return list_1\n",
    "\n",
    "def player_guess():\n",
    "    guess=''\n",
    "    while guess not in ['0','1','2']:\n",
    "        guess=input('Hello Player, please guess the position: ')\n",
    "    return guess\n",
    "\n",
    "def the_guessing_game(list_1,guess):\n",
    "    z=int(guess)\n",
    "    if list_1[z]=='O':\n",
    "        print(list_1)\n",
    "        print('You my man. Good guess!!!!')\n",
    "    else:\n",
    "        print(list_1)\n",
    "        print('Hard luck buddy, better luck next time!!')\n",
    "\n",
    "my_new_list=[' ','O',' ']\n",
    "print(my_new_list)\n",
    "shuffle_list(my_new_list)\n",
    "guess_1=player_guess()\n",
    "the_guessing_game(my_new_list,guess_1)\n",
    "        "
   ]
  }
 ],
 "metadata": {
  "kernelspec": {
   "display_name": "Python 3",
   "language": "python",
   "name": "python3"
  },
  "language_info": {
   "codemirror_mode": {
    "name": "ipython",
    "version": 3
   },
   "file_extension": ".py",
   "mimetype": "text/x-python",
   "name": "python",
   "nbconvert_exporter": "python",
   "pygments_lexer": "ipython3",
   "version": "3.8.5"
  }
 },
 "nbformat": 4,
 "nbformat_minor": 4
}
