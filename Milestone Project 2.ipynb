{
 "cells": [
  {
   "cell_type": "markdown",
   "metadata": {},
   "source": [
    "# Milestone Project 2"
   ]
  },
  {
   "cell_type": "code",
   "execution_count": 10,
   "metadata": {},
   "outputs": [],
   "source": [
    "#GLOBAL VARAIABLES\n",
    "suits=('Hearts','Diamonds','Spades','Clubs')\n",
    "ranks=('Two','Three','Four','Five','Six','Seven','Eight','Nine','Ten','Jack','Queen','King','Ace')\n",
    "values={'Two':2,'Three':3,'Four':4,'Five':5,'Six':6,'Seven':7,'Eight':8 ,'Nine':9,'Ten':10,'Jack':10,'Queen':10,\n",
    "        'King':10,'Ace':[1,11]}\n",
    "\n",
    "from random import shuffle\n",
    "\n",
    "from IPython.display import clear_output"
   ]
  },
  {
   "cell_type": "code",
   "execution_count": 11,
   "metadata": {},
   "outputs": [],
   "source": [
    "class Card():\n",
    "    def __init__(self,suit,rank):\n",
    "        self.suit=suit\n",
    "        self.rank=rank\n",
    "        self.value=values[rank]\n",
    "    def __str__(self):\n",
    "        return self.rank +\" of \"+self.suit"
   ]
  },
  {
   "cell_type": "code",
   "execution_count": 12,
   "metadata": {},
   "outputs": [],
   "source": [
    "card_1=Card('Spades','Ace')"
   ]
  },
  {
   "cell_type": "code",
   "execution_count": 13,
   "metadata": {},
   "outputs": [],
   "source": [
    "class Deck():\n",
    "    \n",
    "    def __init__(self):\n",
    "        self.all_cards=[]\n",
    "        for suit in suits:\n",
    "            for rank in ranks:\n",
    "                created_card=Card(suit,rank)\n",
    "                self.all_cards.append(created_card)\n",
    "                \n",
    "    def shuffle(self):\n",
    "        shuffle(self.all_cards)\n",
    "        \n",
    "    def remove_one(self):\n",
    "        return self.all_cards.pop(0)\n",
    "                "
   ]
  },
  {
   "cell_type": "code",
   "execution_count": 14,
   "metadata": {},
   "outputs": [],
   "source": [
    "class Player():\n",
    "    \n",
    "    def __init__(self,name):\n",
    "        self.name=name\n",
    "        self.all_cards=[]\n",
    "        \n",
    "    def add_cards(self,new_card):\n",
    "        if type(new_card)==([]):\n",
    "            self.all_cards.extend(new_card)\n",
    "        else:\n",
    "            self.all_cards.append(new_card)\n",
    "        \n",
    "            \n",
    "        "
   ]
  },
  {
   "cell_type": "code",
   "execution_count": 15,
   "metadata": {},
   "outputs": [],
   "source": [
    "class Account():\n",
    "    \n",
    "    def __init__(self,name,balance):\n",
    "        \n",
    "        self.balance=balance\n",
    "        \n",
    "        Player.__init__(self,name)\n",
    "        \n",
    "    def deposit(self,amount):\n",
    "        self.balance+=amount\n",
    "        print(\"{} amount deposited\\nCurent balance {}\".format(amount,self.balance))\n",
    "        \n",
    "    def withdraw(self,amount):\n",
    "        if amount>self.balance:\n",
    "            print(\"You have insufficient balance to withdraw {}\".format(amount))\n",
    "            return False\n",
    "            \n",
    "        else:\n",
    "            self.balance-=amount\n",
    "            print(\"Amount {} Withdraw Successful\\nCurrent balance {}\".format(amount,self.balance))\n",
    "            return True"
   ]
  },
  {
   "cell_type": "code",
   "execution_count": 16,
   "metadata": {},
   "outputs": [],
   "source": [
    "def user_bet_input():\n",
    "    bet='LOL'\n",
    "    b_input=True\n",
    "    while b_input:\n",
    "        try:\n",
    "            bet=int(input(\"How much do you want to bet? \"))\n",
    "        except:\n",
    "            clear_output()\n",
    "            print(\"Please enter correct value.\")\n",
    "        else:\n",
    "            b_input=False\n",
    "            \n",
    "    \n",
    "    return bet\n",
    "    "
   ]
  },
  {
   "cell_type": "code",
   "execution_count": 17,
   "metadata": {},
   "outputs": [],
   "source": [
    "def game_on():\n",
    "    check='HAHA'\n",
    "    gameon=True\n",
    "    while gameon:\n",
    "        check=input(\"Do you want to continue? Y or N \\n\")\n",
    "        \n",
    "        if check.isdigit():\n",
    "            clear_output()\n",
    "            print(\"Wrong Input. Please select between Y or N\\n\")\n",
    "        else:\n",
    "            if check.upper()=='Y':\n",
    "                return True\n",
    "            elif check.upper()=='N':\n",
    "                return False\n",
    "            else:\n",
    "                clear_output()\n",
    "                print(\"Wrong Input. Please select between Y or N\\n\")\n",
    "                pass\n",
    "                \n",
    "        "
   ]
  },
  {
   "cell_type": "code",
   "execution_count": 18,
   "metadata": {},
   "outputs": [],
   "source": [
    "def user_name_input():\n",
    "    name='LOL'\n",
    "    n_input=True\n",
    "    while n_input:\n",
    "        \n",
    "        name=input(\"What is your Name? \")\n",
    "\n",
    "        if name.isdigit():\n",
    "            clear_output()\n",
    "            print(\"Wrong Input. A name cannot be number\\n\")\n",
    "        else:\n",
    "            n_input=False\n",
    "            \n",
    "    \n",
    "    return name"
   ]
  },
  {
   "cell_type": "code",
   "execution_count": 19,
   "metadata": {},
   "outputs": [],
   "source": [
    "def hit_or_stay():\n",
    "    hit='LOL'\n",
    "    n_input=True\n",
    "    while n_input:\n",
    "        \n",
    "        hit=input(\"Do you want to Hit or Stay? H or S \")\n",
    "\n",
    "        if hit.isdigit():\n",
    "            clear_output()\n",
    "            print(\"Wrong Input. Please select between H or S\\n\")\n",
    "        else:\n",
    "            if hit.upper()=='H':\n",
    "                return True\n",
    "            elif hit.upper()=='S':\n",
    "                return False\n",
    "            else:\n",
    "                clear_output()\n",
    "                print(\"Wrong Input. Please select between H or S\\n\")\n",
    "                pass"
   ]
  },
  {
   "cell_type": "code",
   "execution_count": 20,
   "metadata": {},
   "outputs": [],
   "source": [
    "def calculate_total_rank(player_one_cards):\n",
    "    \n",
    "    total=0\n",
    "    for card in player_one_cards:\n",
    "        print(card)\n",
    "        z=card.value\n",
    "        if type(z)==type([]):\n",
    "            z=ace_value(card)\n",
    "            total+=z\n",
    "        else:\n",
    "            pass\n",
    "            total+=z\n",
    "        \n",
    "    return total"
   ]
  },
  {
   "cell_type": "code",
   "execution_count": 21,
   "metadata": {},
   "outputs": [],
   "source": [
    "def ace_value(card):\n",
    "    ace=True\n",
    "    while ace:\n",
    "        try:\n",
    "            ace_value=int(input(\"What do you want to opt for {}? 1 or 11 \".format(card)))\n",
    "        except:\n",
    "            clear_output()\n",
    "            print(\"Please insert valid integer\")\n",
    "        else:\n",
    "            if ace_value==11 or ace_value==1:\n",
    "                ace=False\n",
    "            else:\n",
    "                clear_output()\n",
    "                print(\"Please insert 1 or 11\")\n",
    "    return ace_value"
   ]
  },
  {
   "cell_type": "code",
   "execution_count": 30,
   "metadata": {},
   "outputs": [
    {
     "name": "stdout",
     "output_type": "stream",
     "text": [
      "Shuffled Deck is Ready!!!!!\n",
      "\n",
      "What is your Name? y\n",
      "How much do you want to bet? 5\n",
      "Amount 5 Withdraw Successful\n",
      "Current balance 995\n",
      "Player's Card 1 : Seven of Diamonds\n",
      "Player's Card 2 : Ten of Diamonds\n",
      "\n",
      "Dealer's Card 1 : Face down\n",
      "Dealer's Card 2 : Eight of Hearts\n",
      "Seven of Diamonds\n",
      "Ten of Diamonds\n",
      "Your total as of Now : 17\n",
      "Do you want to Hit or Stay? H or S h\n",
      "Player's Card 3 : Three of Diamonds\n",
      "Seven of Diamonds\n",
      "Ten of Diamonds\n",
      "Three of Diamonds\n",
      "Your total as of Now : 20\n",
      "Do you want to Hit or Stay? H or S s\n"
     ]
    }
   ],
   "source": [
    "game_begin=True\n",
    "while game_begin:\n",
    "    \n",
    "    new_deck=Deck()\n",
    "    new_deck.shuffle()\n",
    "    print(\"Shuffled Deck is Ready!!!!!\\n\")\n",
    "    \n",
    "    name=user_name_input()\n",
    "    bet=user_bet_input()\n",
    "    \n",
    "    player_one=Player(name)\n",
    "    player_one_account=Account(player_one.name,1000)\n",
    "    \n",
    "    dealer=Player('Mr. Computer')\n",
    "    \n",
    "    player_one_cards=[]\n",
    "    dealer_cards=[]\n",
    "    total_rank=0\n",
    "        \n",
    "    if player_one_account.withdraw(bet):\n",
    "    \n",
    "        for i in range(2):\n",
    "            player_one_cards.append(new_deck.remove_one())\n",
    "            print(\"Player's Card {} : {}\".format(i+1,player_one_cards[i]))\n",
    "\n",
    "        for i in range(2):\n",
    "            dealer_cards.append(new_deck.remove_one())\n",
    "            if i==0:\n",
    "                print(\"\\nDealer's Card {} : Face down\".format(i+1))\n",
    "            else:\n",
    "                print(\"Dealer's Card {} : {}\".format(i+1,dealer_cards[i]))  \n",
    "        \n",
    "        hit_index=1\n",
    "        total_rank=calculate_total_rank(player_one_cards)\n",
    "        print('Your total as of Now : {}'.format(total_rank))\n",
    "        while hit_or_stay():\n",
    "            \n",
    "            hit_index+=1\n",
    "            \n",
    "            for i in range(hit_index,hit_index+1):\n",
    "                player_one_cards.append(new_deck.remove_one())\n",
    "                print(\"Player's Card {} : {}\".format(i+1,player_one_cards[i]))\n",
    "            \n",
    "            total_rank=calculate_total_rank(player_one_cards)\n",
    "            print('Your total as of Now : {}'.format(total_rank))\n",
    "            if total_rank>21:\n",
    "                print(\"BUSTED!!!!!Your total rank is {} \".format(total_rank))\n",
    "                break\n",
    "            elif total_rank==21:\n",
    "                print(\"WINNER\")\n",
    "                break\n",
    "            else:\n",
    "                pass\n",
    "                \n",
    "        \n",
    "        \n",
    "        game_begin=False        \n",
    "             \n",
    "\n",
    "            \n",
    "\n",
    "        \n",
    "    "
   ]
  },
  {
   "cell_type": "code",
   "execution_count": 145,
   "metadata": {},
   "outputs": [
    {
     "name": "stdout",
     "output_type": "stream",
     "text": [
      "Player's Card 1 : Two of Hearts\n",
      "Player's Card 2 : Three of Hearts\n",
      "\n",
      "Dealer's Card 1 : Face down\n",
      "Dealer's Card 2 : Five of Hearts\n"
     ]
    }
   ],
   "source": [
    "player_one_cards=[]\n",
    "dealer_cards=[]\n",
    "new_deck=Deck()\n",
    "for i in range(2):\n",
    "    player_one_cards.append(new_deck.remove_one())\n",
    "    print(\"Player's Card {} : {}\".format(i+1,player_one_cards[i]))\n",
    "    \n",
    "for i in range(2):\n",
    "    dealer_cards.append(new_deck.remove_one())\n",
    "    if i==0:\n",
    "        print(\"\\nDealer's Card {} : Face down\".format(i+1))\n",
    "    else:\n",
    "        print(\"Dealer's Card {} : {}\".format(i+1,dealer_cards[i]))"
   ]
  },
  {
   "cell_type": "code",
   "execution_count": 129,
   "metadata": {},
   "outputs": [
    {
     "name": "stdout",
     "output_type": "stream",
     "text": [
      "Three of Hearts\n",
      "Three of Hearts\n"
     ]
    }
   ],
   "source": [
    "for cards in player_one_cards:\n",
    "    print(player_one_cards[1])"
   ]
  },
  {
   "cell_type": "code",
   "execution_count": null,
   "metadata": {},
   "outputs": [],
   "source": [
    "for j in range(2):\n",
    "    dealer_cards.append(new_deck.remove_one())\n",
    "    if i==0:\n",
    "        print(\"Dealer's {} is Face down\".format(i+1))\n",
    "    else:\n",
    "        print(\"Dealer's {} is {}\".format(i+1,dealer_cards[i]))"
   ]
  },
  {
   "cell_type": "code",
   "execution_count": 150,
   "metadata": {},
   "outputs": [
    {
     "name": "stdout",
     "output_type": "stream",
     "text": [
      "Wrong Input. Please select between H or S\n",
      "\n",
      "Do you want to Hit or Stay? H or S H\n",
      "helllooooo\n",
      "Do you want to Hit or Stay? H or S s\n"
     ]
    }
   ],
   "source": [
    "while hit_or_stay():\n",
    "    print(\"helllooooo\")"
   ]
  },
  {
   "cell_type": "code",
   "execution_count": 8,
   "metadata": {},
   "outputs": [
    {
     "name": "stdout",
     "output_type": "stream",
     "text": [
      "Ace of Spades\n",
      "What do you want to opt for Ace of Spades? 1 or 11 11\n",
      "11\n"
     ]
    }
   ],
   "source": [
    "    total=0\n",
    "    for card in player_one_cards:\n",
    "        print(card)\n",
    "        z=card.value\n",
    "        if type(z)==type([]):\n",
    "            z=ace_value(card)\n",
    "            total+=z\n",
    "        else:\n",
    "            pass\n",
    "            total+=z\n",
    "        \n",
    "    print(total)\n",
    "            "
   ]
  },
  {
   "cell_type": "code",
   "execution_count": 165,
   "metadata": {},
   "outputs": [
    {
     "name": "stdout",
     "output_type": "stream",
     "text": [
      "Please insert 1 or 11\n",
      "What do you want to opt for? 1 or 11 1\n"
     ]
    },
    {
     "data": {
      "text/plain": [
       "1"
      ]
     },
     "execution_count": 165,
     "metadata": {},
     "output_type": "execute_result"
    }
   ],
   "source": [
    "ace_value()"
   ]
  },
  {
   "cell_type": "code",
   "execution_count": 5,
   "metadata": {},
   "outputs": [],
   "source": [
    "player_one_cards=[]\n",
    "player_one_cards.append(card_1)"
   ]
  },
  {
   "cell_type": "code",
   "execution_count": null,
   "metadata": {},
   "outputs": [],
   "source": []
  }
 ],
 "metadata": {
  "kernelspec": {
   "display_name": "Python 3",
   "language": "python",
   "name": "python3"
  },
  "language_info": {
   "codemirror_mode": {
    "name": "ipython",
    "version": 3
   },
   "file_extension": ".py",
   "mimetype": "text/x-python",
   "name": "python",
   "nbconvert_exporter": "python",
   "pygments_lexer": "ipython3",
   "version": "3.8.5"
  }
 },
 "nbformat": 4,
 "nbformat_minor": 4
}
