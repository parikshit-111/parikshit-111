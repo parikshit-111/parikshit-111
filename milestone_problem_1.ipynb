{
 "cells": [
  {
   "cell_type": "code",
   "execution_count": 1,
   "metadata": {},
   "outputs": [],
   "source": [
    "#my_list=[' ',' ',' ',' ',' ',' ',' ',' ',' ']\n",
    "def user_input():\n",
    "    player_1='LOL'\n",
    "    player_2='ROFL'\n",
    "    while player_1 not in['O','X']:\n",
    "        player_1=input(\"Player 1, please select one between 'O'or 'X' \")\n",
    "        player_1=player_1.upper()\n",
    "        if player_1 not in ['O','X']:\n",
    "            print(\"You entered '{}'. Please enter a valid one between 'O' or 'X'\".format(player_1))\n",
    "        else:\n",
    "            pass\n",
    "    if player_1=='O':\n",
    "        player_2='X'\n",
    "    else:\n",
    "        player_2='O'\n",
    "    player_list=[]\n",
    "    player_list.append(player_1)\n",
    "    player_list.append(player_2)\n",
    "    return player_list\n",
    "#player_list=user_input()\n",
    "#print(player_list)"
   ]
  },
  {
   "cell_type": "code",
   "execution_count": 2,
   "metadata": {},
   "outputs": [],
   "source": [
    "from IPython.display import clear_output\n",
    "def player_position(my_list,player_choice,player):\n",
    "    player_pos='HAHA'\n",
    "    while player_pos not in list(range(0,len(my_list))) or position==False:\n",
    "        player_pos=input(\"Player {p},Please enter the position of {i} within {r} \".format(i=player_choice,p=player,r=list(range(0,len(my_list)))))\n",
    "        if player_pos.isdigit():\n",
    "            player_pos=int(player_pos)\n",
    "            if player_pos not in list(range(0,len(my_list))):\n",
    "                clear_output()\n",
    "                print(\"You entered '{p}'. Please enter valid position between the range {r}\".format(p=player_pos,r=list(range(0,len(my_list)))))\n",
    "            else:\n",
    "                if my_list[player_pos]!=' ':\n",
    "                    print(\"This position '{}' is already taken. Try some other position\".format(player_pos))\n",
    "                    position=False\n",
    "                else:\n",
    "                    position=True\n",
    "        else:\n",
    "            clear_output()\n",
    "            print(\"You entered '{p}'. Please enter valid digit\".format(p=player_pos))\n",
    "    return player_pos\n",
    "#player_1_pos=player_1_position(my_list,player_list) \n"
   ]
  },
  {
   "cell_type": "code",
   "execution_count": 3,
   "metadata": {},
   "outputs": [],
   "source": [
    "my_list=[' ',' ',' ',' ',' ',' ',' ',' ',' ']\n",
    "def print_game(my_list,player_list):\n",
    "    for i in range(0,len(my_list)):\n",
    "        if i==2 or i==5 or i==8:\n",
    "            print(my_list[i])\n",
    "        elif i==3 or i==6:\n",
    "            print(\"-- --- --\")\n",
    "            print(my_list[i],end=\" | \")\n",
    "        else:\n",
    "            print(my_list[i],end=\" | \")\n",
    "    z=validate_winner(my_list,player_list)\n",
    "    return z\n",
    "#print_game(my_list,player_list)"
   ]
  },
  {
   "cell_type": "code",
   "execution_count": 4,
   "metadata": {},
   "outputs": [],
   "source": [
    "def changing_value(my_list,position,player_list):\n",
    "    player_1=player_list[0]\n",
    "    my_list[position]=player_1\n",
    "    y=print_game(my_list,player_list)\n",
    "    return y\n",
    "#changing_value(my_list,player_1_pos,player_list)"
   ]
  },
  {
   "cell_type": "code",
   "execution_count": 5,
   "metadata": {},
   "outputs": [],
   "source": [
    "def validate_winner(my_list,player_list):\n",
    "    winner=''\n",
    "    my_dict={'k1':[0,1,2],'k2':[3,4,5],'k3':[6,7,8],'k4':[0,3,6],'k5':[1,4,7],'k6':[2,5,8],'k7':[0,4,8],'k8':[2,4,6]}\n",
    "    #my_list=['O',' ','O','O','O',' ',' ',' ','O']\n",
    "    count=0\n",
    "    for i in my_dict.values():\n",
    "        count=0\n",
    "        for j in i:\n",
    "            if my_list[j]==player_list[0]:\n",
    "                count+=1\n",
    "            else:\n",
    "                pass\n",
    "        if count==3:\n",
    "            if player_list[0]=='O':\n",
    "                print('Player 1 won')\n",
    "                return True\n",
    "            else:\n",
    "                print('Player 2 won')\n",
    "                return True\n",
    "            break\n",
    "    if ' ' not in my_list:\n",
    "        print(\"it's a DRAW\")\n",
    "        return True\n",
    "        "
   ]
  },
  {
   "cell_type": "code",
   "execution_count": 6,
   "metadata": {},
   "outputs": [],
   "source": [
    "def gameon_choice():\n",
    "    continue_game='LOL'\n",
    "    #gameon=False\n",
    "    while continue_game not in ['Y','N']:\n",
    "        continue_game=input('Would you like to continue the game? Y or N ')\n",
    "        continue_game=continue_game.upper()\n",
    "        if continue_game not in ['Y','N']:\n",
    "            print(\"You entered '{}'. Please select between Y or N \".format(continue_game))\n",
    "            \n",
    "    if continue_game=='Y':\n",
    "        return True\n",
    "    else:\n",
    "        return False"
   ]
  },
  {
   "cell_type": "code",
   "execution_count": 7,
   "metadata": {},
   "outputs": [],
   "source": [
    "def clear_list(my_list):\n",
    "    for i in range(0,len(my_list)):\n",
    "        my_list.pop(0)\n",
    "        #print(my_list)\n",
    "    for i in range(0,9):\n",
    "        my_list.append(' ')\n",
    "        #print(my_list)\n",
    "#yo_list=[1,2,3,4,5,6,7,8,9]\n",
    "#print(yo_list)\n",
    "#clear_list(yo_list)"
   ]
  },
  {
   "cell_type": "code",
   "execution_count": null,
   "metadata": {},
   "outputs": [
    {
     "name": "stdout",
     "output_type": "stream",
     "text": [
      "X | O | X\n",
      "-- --- --\n",
      "  | O | X\n",
      "-- --- --\n",
      "  | X | O\n"
     ]
    }
   ],
   "source": [
    "my_list=[' ',' ',' ',' ',' ',' ',' ',' ',' ']\n",
    "from IPython.display import clear_output\n",
    "player_list=user_input()\n",
    "player=0\n",
    "gameon=True\n",
    "index=0\n",
    "while gameon:\n",
    "    index+=1\n",
    "    if index==1:\n",
    "        z=print_game(my_list,player_list)\n",
    "    if index%2!=0:\n",
    "        player_choice=player_list[0]\n",
    "        player=1\n",
    "        player_pos=player_position(my_list,player_choice,player)\n",
    "        clear_output()\n",
    "        x=changing_value(my_list,player_pos,player_list[0])\n",
    "        \n",
    "    else:\n",
    "        player_choice=player_list[1]\n",
    "        player=2\n",
    "        player_pos=player_position(my_list,player_choice,player)\n",
    "        clear_output()\n",
    "        x=changing_value(my_list,player_pos,player_list[1])\n",
    "    if x:\n",
    "        if gameon_choice():\n",
    "            clear_list(my_list)\n",
    "            gameon=True\n",
    "        else:\n",
    "            gameon=False\n",
    "    else:\n",
    "        pass\n",
    "        \n"
   ]
  },
  {
   "cell_type": "code",
   "execution_count": null,
   "metadata": {},
   "outputs": [],
   "source": []
  },
  {
   "cell_type": "code",
   "execution_count": null,
   "metadata": {},
   "outputs": [],
   "source": []
  }
 ],
 "metadata": {
  "kernelspec": {
   "display_name": "Python 3",
   "language": "python",
   "name": "python3"
  },
  "language_info": {
   "codemirror_mode": {
    "name": "ipython",
    "version": 3
   },
   "file_extension": ".py",
   "mimetype": "text/x-python",
   "name": "python",
   "nbconvert_exporter": "python",
   "pygments_lexer": "ipython3",
   "version": "3.8.5"
  }
 },
 "nbformat": 4,
 "nbformat_minor": 4
}
